{
 "metadata": {
  "language_info": {
   "codemirror_mode": {
    "name": "ipython",
    "version": 3
   },
   "file_extension": ".py",
   "mimetype": "text/x-python",
   "name": "python",
   "nbconvert_exporter": "python",
   "pygments_lexer": "ipython3",
   "version": "3.8.3-final"
  },
  "orig_nbformat": 2,
  "kernelspec": {
   "name": "python38332bitf0415ba0887842c3a78dc24cd77d24d5",
   "display_name": "Python 3.8.3 32-bit"
  }
 },
 "nbformat": 4,
 "nbformat_minor": 2,
 "cells": [
  {
   "cell_type": "code",
   "execution_count": 85,
   "metadata": {
    "tags": []
   },
   "outputs": [
    {
     "output_type": "stream",
     "name": "stdout",
     "text": "[&#39;Diana&#39;, &#39;Di Stefano&#39;, &#39;31&#39;, &#39;1,60&#39;, &#39;Ummita&#39;]\n"
    }
   ],
   "source": [
    "persona=[['Saul', 'Roldan', '30', '1,70', 'Argentina'],['Diana', 'Di Stefano', '31', '1,60', 'Ummita'],['Matias', 'Nomeacuerdo', '32', '1,75', 'Argentina']]\n",
    "\n",
    "\"\"\" print(persona[2][4]) \"\"\"\n",
    "for sujeto in persona:\n",
    "    if sujeto[4] != \"Argentina\":\n",
    "        print(sujeto)"
   ]
  },
  {
   "cell_type": "code",
   "execution_count": null,
   "metadata": {},
   "outputs": [],
   "source": []
  }
 ]
}